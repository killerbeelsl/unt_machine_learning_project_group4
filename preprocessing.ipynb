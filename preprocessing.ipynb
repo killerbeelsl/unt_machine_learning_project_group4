{
 "cells": [
  {
   "cell_type": "code",
   "execution_count": 2,
   "id": "88cf9805",
   "metadata": {},
   "outputs": [],
   "source": [
    "import praw\n",
    "import pandas as pd\n",
    "import glob\n",
    "import xml.etree.ElementTree as ET"
   ]
  },
  {
   "cell_type": "code",
   "execution_count": 3,
   "id": "f8439087",
   "metadata": {},
   "outputs": [],
   "source": [
    "def parse_review(f_data):\n",
    "    text_ls = []\n",
    "    rating_ls = []\n",
    "    for i,tag in enumerate(f_data):\n",
    "#         print(tag.strip())\n",
    "        tag = tag.strip()\n",
    "        if(tag==\"<review_text>\"):\n",
    "            text_ls.append(f_data[i+1].strip())\n",
    "        elif(tag==\"<rating>\"):\n",
    "            rating_ls.append(int(f_data[i+1].strip('.0\\n')))\n",
    "    return text_ls,rating_ls"
   ]
  },
  {
   "cell_type": "code",
   "execution_count": null,
   "id": "f6e8d701",
   "metadata": {},
   "outputs": [],
   "source": []
  },
  {
   "cell_type": "code",
   "execution_count": 7,
   "id": "a4415ab7",
   "metadata": {},
   "outputs": [
    {
     "name": "stdout",
     "output_type": "stream",
     "text": [
      "sorted_data\\apparel\\all.review\n",
      "sorted_data\\automotive\\all.review\n",
      "sorted_data\\baby\\all.review\n",
      "sorted_data\\beauty\\all.review\n",
      "sorted_data\\books\\all.review\n",
      "sorted_data\\camera_&_photo\\all.review\n",
      "sorted_data\\cell_phones_&_service\\all.review\n",
      "sorted_data\\computer_&_video_games\\all.review\n",
      "sorted_data\\dvd\\all.review\n",
      "sorted_data\\electronics\\all.review\n",
      "sorted_data\\gourmet_food\\all.review\n",
      "sorted_data\\grocery\\all.review\n",
      "sorted_data\\health_&_personal_care\\all.review\n",
      "sorted_data\\jewelry_&_watches\\all.review\n",
      "sorted_data\\kitchen_&_housewares\\all.review\n",
      "sorted_data\\magazines\\all.review\n",
      "sorted_data\\music\\all.review\n",
      "sorted_data\\musical_instruments\\all.review\n",
      "sorted_data\\office_products\\all.review\n",
      "sorted_data\\outdoor_living\\all.review\n",
      "sorted_data\\software\\all.review\n",
      "sorted_data\\sports_&_outdoors\\all.review\n",
      "sorted_data\\tools_&_hardware\\all.review\n",
      "sorted_data\\toys_&_games\\all.review\n",
      "sorted_data\\video\\all.review\n"
     ]
    }
   ],
   "source": [
    "all_txt_ls = []\n",
    "all_rt_ls = []\n",
    "for file in glob.glob(\"sorted_data/*/all.review\"):\n",
    "    try:\n",
    "        print(file)\n",
    "        f1 = open(file,'r').readlines()\n",
    "        txt_ls, rt_ls = parse_review(f1)\n",
    "        all_txt_ls += txt_ls\n",
    "        all_rt_ls += rt_ls\n",
    "    except:\n",
    "        pass"
   ]
  },
  {
   "cell_type": "code",
   "execution_count": 9,
   "id": "a0f647db",
   "metadata": {},
   "outputs": [
    {
     "data": {
      "text/plain": [
       "(148718, 148718)"
      ]
     },
     "execution_count": 9,
     "metadata": {},
     "output_type": "execute_result"
    }
   ],
   "source": [
    "len(all_txt_ls),len(all_rt_ls)"
   ]
  },
  {
   "cell_type": "code",
   "execution_count": 11,
   "id": "564a6cb7",
   "metadata": {},
   "outputs": [
    {
     "data": {
      "text/plain": [
       "\"I'm a fan of NCIS, but living in australia means that the episodes and dvd's area released months behind those in the USA.  Why is this only available to those in the USA?\""
      ]
     },
     "execution_count": 11,
     "metadata": {},
     "output_type": "execute_result"
    }
   ],
   "source": [
    "all_txt_ls[-1]"
   ]
  },
  {
   "cell_type": "code",
   "execution_count": 23,
   "id": "9037d8b5",
   "metadata": {},
   "outputs": [],
   "source": [
    "import re\n",
    "def remove_non_alphabetical(text):\n",
    "    # Use a regular expression to match only alphabetical characters\n",
    "    cleaned_text = re.sub(r'[^a-zA-Z]', ' ', text)\n",
    "    return cleaned_text"
   ]
  },
  {
   "cell_type": "code",
   "execution_count": 25,
   "id": "0e071afe",
   "metadata": {},
   "outputs": [],
   "source": [
    "f1 = open(\"all_data.csv\",'w')\n",
    "for i in range(len(all_txt_ls)):\n",
    "    txt = remove_non_alphabetical(all_txt_ls[i])\n",
    "    f1.write(txt + \",\" + str(all_rt_ls[i]) + \"\\n\")\n",
    "f1.close()\n"
   ]
  },
  {
   "cell_type": "code",
   "execution_count": 19,
   "id": "474a0fb4",
   "metadata": {},
   "outputs": [
    {
     "data": {
      "text/plain": [
       "(36180, 36180)"
      ]
     },
     "execution_count": 19,
     "metadata": {},
     "output_type": "execute_result"
    }
   ],
   "source": [
    "len(txt_ls),len(rt_ls)"
   ]
  },
  {
   "cell_type": "code",
   "execution_count": 20,
   "id": "8174b182",
   "metadata": {},
   "outputs": [],
   "source": [
    "import pandas as pd"
   ]
  },
  {
   "cell_type": "code",
   "execution_count": 28,
   "id": "95bfb53b",
   "metadata": {},
   "outputs": [],
   "source": [
    "data = pd.read_csv(\"all_data.csv\",header=None)"
   ]
  },
  {
   "cell_type": "code",
   "execution_count": 29,
   "id": "f49163c6",
   "metadata": {},
   "outputs": [
    {
     "data": {
      "text/html": [
       "<div>\n",
       "<style scoped>\n",
       "    .dataframe tbody tr th:only-of-type {\n",
       "        vertical-align: middle;\n",
       "    }\n",
       "\n",
       "    .dataframe tbody tr th {\n",
       "        vertical-align: top;\n",
       "    }\n",
       "\n",
       "    .dataframe thead th {\n",
       "        text-align: right;\n",
       "    }\n",
       "</style>\n",
       "<table border=\"1\" class=\"dataframe\">\n",
       "  <thead>\n",
       "    <tr style=\"text-align: right;\">\n",
       "      <th></th>\n",
       "      <th>0</th>\n",
       "      <th>1</th>\n",
       "    </tr>\n",
       "  </thead>\n",
       "  <tbody>\n",
       "    <tr>\n",
       "      <th>0</th>\n",
       "      <td>I want to start by saying Fred Flare  shipped ...</td>\n",
       "      <td>1</td>\n",
       "    </tr>\n",
       "    <tr>\n",
       "      <th>1</th>\n",
       "      <td>I have to say that I was disappointed when I o...</td>\n",
       "      <td>1</td>\n",
       "    </tr>\n",
       "    <tr>\n",
       "      <th>2</th>\n",
       "      <td>I am sorry but I did not like it nor will I we...</td>\n",
       "      <td>2</td>\n",
       "    </tr>\n",
       "    <tr>\n",
       "      <th>3</th>\n",
       "      <td>A red star      I bet this won t sell well in ...</td>\n",
       "      <td>1</td>\n",
       "    </tr>\n",
       "    <tr>\n",
       "      <th>4</th>\n",
       "      <td>Perhaps it is my own fault for not reading mor...</td>\n",
       "      <td>1</td>\n",
       "    </tr>\n",
       "    <tr>\n",
       "      <th>...</th>\n",
       "      <td>...</td>\n",
       "      <td>...</td>\n",
       "    </tr>\n",
       "    <tr>\n",
       "      <th>148713</th>\n",
       "      <td>I m sure I ll get some flack for declaring thi...</td>\n",
       "      <td>4</td>\n",
       "    </tr>\n",
       "    <tr>\n",
       "      <th>148714</th>\n",
       "      <td>If you re interested in surfing at all  you ne...</td>\n",
       "      <td>5</td>\n",
       "    </tr>\n",
       "    <tr>\n",
       "      <th>148715</th>\n",
       "      <td>I don t have television  haven t for    years ...</td>\n",
       "      <td>5</td>\n",
       "    </tr>\n",
       "    <tr>\n",
       "      <th>148716</th>\n",
       "      <td>This is the first episode where we really see ...</td>\n",
       "      <td>4</td>\n",
       "    </tr>\n",
       "    <tr>\n",
       "      <th>148717</th>\n",
       "      <td>I m a fan of NCIS  but living in australia mea...</td>\n",
       "      <td>1</td>\n",
       "    </tr>\n",
       "  </tbody>\n",
       "</table>\n",
       "<p>148718 rows × 2 columns</p>\n",
       "</div>"
      ],
      "text/plain": [
       "                                                        0  1\n",
       "0       I want to start by saying Fred Flare  shipped ...  1\n",
       "1       I have to say that I was disappointed when I o...  1\n",
       "2       I am sorry but I did not like it nor will I we...  2\n",
       "3       A red star      I bet this won t sell well in ...  1\n",
       "4       Perhaps it is my own fault for not reading mor...  1\n",
       "...                                                   ... ..\n",
       "148713  I m sure I ll get some flack for declaring thi...  4\n",
       "148714  If you re interested in surfing at all  you ne...  5\n",
       "148715  I don t have television  haven t for    years ...  5\n",
       "148716  This is the first episode where we really see ...  4\n",
       "148717  I m a fan of NCIS  but living in australia mea...  1\n",
       "\n",
       "[148718 rows x 2 columns]"
      ]
     },
     "execution_count": 29,
     "metadata": {},
     "output_type": "execute_result"
    }
   ],
   "source": [
    "data"
   ]
  },
  {
   "cell_type": "code",
   "execution_count": 62,
   "id": "e5d928b9",
   "metadata": {},
   "outputs": [
    {
     "name": "stdout",
     "output_type": "stream",
     "text": [
      "sorted_data\\apparel\\processed.review\n",
      "friendly_but:1 not_leather:1 duped_the:1 sued:1 base:1 to_use:1 shipped:1 itself_was:1 smooth:1 my:1 card:1 book_but:1 doesn't_fit:1 was_user:1 disappointed:1 is_not:1 was_of:1 that's_only:1 was:4 wallet_i:1 product_but:1 it_was:2 duped:1 want_to:1 wallet_seem:1 very:4 cheap_the:1 like_it:1 no:1 only_the:1 cant_really:1 you:1 have_extreme:1 too_much:1 included_a:1 really:1 small_note:1 the_wallet:6 but_now:1 lining:1 quality_and:1 put_too:1 you_cant:1 doesn't:1 feel:1 higher:1 flare:1 excited_about:1 the_inside:1 material:1 transaction_itself:1 itself:2 fred_flare:1 a_small:1 snug_and:1 no_place:1 for_my:1 wallet_included:1 really_put:1 nylon:1 cant:1 saying_fred:1 leather:1 use_you:1 sued_but:1 is_no:1 sort_of:1 now_i:1 it's_not:1 very_excited:1 by_saying:1 of_looks:1 much:1 also:2 is_very:1 however_have:1 small:1 higher_quality:1 base_of:1 made:1 its_nylon:1 the_base:1 place:1 put:1 do_however:1 also_the:1 i.d._the:1 little:1 sort:1 material_is:1 part:1 slots_are:1 flare_shipped:1 leather_its:1 i.d.:1 only:1 want:1 it_also:1 wallet_the:1 about_this:1 shipped_this:1 the_pictures:1 use:1 however:1 note:1 i_feel:1 note_book:1 card_slots:1 hard_to:1 recommend:1 pictures_made:1 extreme_problems:1 fast_and:1 start_by:1 it_sort:1 fit:1 much_in:1 feel_duped:1 inside_material:1 saying:1 place_for:1 the_transaction:1 the_credit:1 wallet:6 book:1 start:1 little_too:1 looks:1 problems_with:1 user_friendly:1 too:2 quality:1 also_doesn't:1 snug:1 nylon_and:1 inside:1 i_do:2 the_lining:1 included:1 i:5 about:1 part_is:1 now:1 not:3 product_itself:1 to_start:1 itself_the:1 credit:1 recommend_this:1 wallet_also:1 fred:1 product_is:1 my_i.d.:1 made_the:1 of_higher:1 transaction:1 fast:1 excited:1 product_very:1 a_little:1 looks_cheap:1 i_want:1 lining_for:1 hard:1 very_fast:1 seem_like:1 is_sued:1 cheap:1 like:1 problems:1 i_was:1 was_very:2 wallet_part:1 friendly:1 very_hard:1 pictures:1 not_recommend:1 fit_in:1 user:1 too_snug:1 not_i:1 do_not:1 slots:1 the_product:2 product:5 this_product:3 credit_card:1 seem:1 extreme:1 smooth_i:1 very_smooth:1 #label#:negative\n",
      "\n"
     ]
    }
   ],
   "source": [
    "for file in glob.glob(\"sorted_data/*/processed.review\"):\n",
    "    print(file)\n",
    "    f1 = open(file,'r').readlines()\n",
    "    for d in f1:\n",
    "        print(d)\n",
    "        break\n",
    "    break\n"
   ]
  },
  {
   "cell_type": "code",
   "execution_count": null,
   "id": "9de48d89",
   "metadata": {},
   "outputs": [],
   "source": []
  }
 ],
 "metadata": {
  "kernelspec": {
   "display_name": "Python 3 (ipykernel)",
   "language": "python",
   "name": "python3"
  },
  "language_info": {
   "codemirror_mode": {
    "name": "ipython",
    "version": 3
   },
   "file_extension": ".py",
   "mimetype": "text/x-python",
   "name": "python",
   "nbconvert_exporter": "python",
   "pygments_lexer": "ipython3",
   "version": "3.11.4"
  }
 },
 "nbformat": 4,
 "nbformat_minor": 5
}
